{
 "cells": [
  {
   "cell_type": "code",
   "execution_count": null,
   "metadata": {
    "_cell_guid": "b1076dfc-b9ad-4769-8c92-a6c4dae69d19",
    "_uuid": "8f2839f25d086af736a60e9eeb907d3b93b6e0e5",
    "execution": {
     "iopub.execute_input": "2024-07-21T05:17:48.439042Z",
     "iopub.status.busy": "2024-07-21T05:17:48.438575Z",
     "iopub.status.idle": "2024-07-21T05:18:05.744740Z",
     "shell.execute_reply": "2024-07-21T05:18:05.743204Z",
     "shell.execute_reply.started": "2024-07-21T05:17:48.439004Z"
    }
   },
   "outputs": [],
   "source": []
  },
  {
   "cell_type": "code",
   "execution_count": 525,
   "metadata": {},
   "outputs": [],
   "source": [
    "import fitz  # PyMuPDF\n",
    "\n",
    "\n",
    "\n",
    "def extract_text_from_pdf(pdf_path, start_page):\n",
    "    doc = fitz.open(pdf_path)\n",
    "    text = \"\"\n",
    "    for page_num in range(start_page - 1, len(doc)):  # Adjusting for 0-based index\n",
    "        page = doc.load_page(page_num)\n",
    "        text += page.get_text()\n",
    "    return text\n",
    "\n",
    "\n",
    "\n"
   ]
  },
  {
   "cell_type": "code",
   "execution_count": 526,
   "metadata": {},
   "outputs": [],
   "source": [
    "# Extract text starting from page 14\n",
    "ipc = extract_text_from_pdf(\"H:\\RV\\Work\\py\\Similarity\\IPC.pdf\",14)\n",
    "bnss = extract_text_from_pdf(\"H:\\RV\\Work\\py\\Similarity\\BNSS.pdf\",14)\n",
    "bpc = extract_text_from_pdf(\"H:\\RV\\Work\\py\\Similarity\\BPC.pdf\",15)\n",
    "\n"
   ]
  },
  {
   "cell_type": "code",
   "execution_count": 527,
   "metadata": {
    "execution": {
     "iopub.execute_input": "2024-07-21T07:08:11.147508Z",
     "iopub.status.busy": "2024-07-21T07:08:11.147071Z",
     "iopub.status.idle": "2024-07-21T07:08:11.156762Z",
     "shell.execute_reply": "2024-07-21T07:08:11.155268Z",
     "shell.execute_reply.started": "2024-07-21T07:08:11.147479Z"
    }
   },
   "outputs": [],
   "source": [
    "import re\n",
    "\n",
    "\n",
    "def preprocess_text(text):\n",
    "    \n",
    "  \n",
    "# Remove unnecessary white spaces and combining new lines\n",
    "    text = re.sub(r'[\\r\\n]+', ' ', text)\n",
    "    text = re.sub(r'\\s+', ' ', text)\n",
    "    \n",
    "#     # Repeal sections marked with \"rep.\" or \"[Repealed.]\"\n",
    "#     text = re.sub(r'Section \\d+.*?\\s*rep\\..*?(?=Section|$)', '', text, flags=re.DOTALL)\n",
    "#     text = re.sub(r'Section \\d+\\.\\s*\\[Repealed\\.\\].*?(?=Section|$)', '', text, flags=re.DOTALL)\n",
    "    \n",
    "#     text = re.sub(r'\\d+\\*', '', text)\n",
    "    \n",
    "#     # Remove square brackets but keep the content inside\n",
    "#     text = re.sub(r'\\[(.*?)\\]', r'\\1', text)\n",
    "    \n",
    "    \n",
    "#     # Replace terms\n",
    "#     text = re.sub(r'Code of Criminal Procedure \\(Amendment\\) Act \\(\\d+\\)', '#', text)\n",
    "#     text = re.sub(r'Indian Penal Code', '$', text)\n",
    "    \n",
    "     # Replace all numbering\n",
    "#    text = re.sub(r'\\(\\w*\\)|\\(\\d+\\w*\\)|\\d+\\w*|\\w\\.', '.', text)\n",
    "#    text = re.sub(r'-+', '', text)\n",
    "    \n",
    "    return text"
   ]
  },
  {
   "cell_type": "code",
   "execution_count": 528,
   "metadata": {},
   "outputs": [],
   "source": [
    "ipc_preprocess = preprocess_text(ipc)\n",
    "bnss_preprocess = preprocess_text(bnss)\n",
    "bpc_preprocess = preprocess_text(bpc)\n",
    "write_text_to_file('H:\\\\RV\\\\Work\\\\py\\\\Similarity\\\\ipc.txt',ipc)\n",
    "write_text_to_file('H:\\\\RV\\\\Work\\\\py\\\\Similarity\\\\ipc_preprocess.txt',ipc_preprocess)"
   ]
  },
  {
   "cell_type": "code",
   "execution_count": 529,
   "metadata": {},
   "outputs": [],
   "source": [
    "def convert_to_sentences(text):\n",
    "    result = text.split('.')\n",
    "    trimmed_result = [string.strip() for string in result] # Trim\n",
    "    filtered_list = [string for string in trimmed_result if re.search('[a-zA-Z]', string)] # All independent special and numbers will be removed. \n",
    "    remove_firstspecial_list = [string[1:].strip() if re.search('[^a-zA-Z0-9]', string[0]) else string.strip() for string in filtered_list if re.search('[a-zA-Z]', string)] # Special chatacter in first char is removed\n",
    "    remove_numbering = [re.sub(r\"^(?:\\([a-zA-Z]\\)|\\[a-zA-Z]\\)|\\d+\\)|\\(\\d+\\)|\\[\\d+\\]|\\[[a-zA-Z]\\]|[a-zA-Z]\\)|[a-zA-Z]\\()[^\\w\\s]*\", '', item.strip()) for item in remove_firstspecial_list] # Numbering in beginning of the list is removed\n",
    "    trimmed_result_A = [string.strip() for string in remove_numbering] # Trim\n",
    "    return (trimmed_result_A)"
   ]
  },
  {
   "cell_type": "code",
   "execution_count": 530,
   "metadata": {},
   "outputs": [],
   "source": [
    "def write_list_to_file(file, content):\n",
    "    with open(file, \"w\") as file:\n",
    "        for item in content:\n",
    "            file.write(item + \"\\n\")"
   ]
  },
  {
   "cell_type": "code",
   "execution_count": 531,
   "metadata": {},
   "outputs": [],
   "source": [
    "ipc_sentences = convert_to_sentences(ipc_preprocess)\n",
    "bnss_sentences = convert_to_sentences(bnss_preprocess)\n",
    "bpc_sentences = convert_to_sentences(bpc_preprocess)"
   ]
  },
  {
   "cell_type": "code",
   "execution_count": 532,
   "metadata": {},
   "outputs": [],
   "source": [
    "ipc_list_to_string = ' '.join(ipc_sentences)\n",
    "bnss_list_to_string = ' '.join(bnss_sentences)\n",
    "bpc_list_to_string = ' '.join(bpc_sentences)"
   ]
  },
  {
   "cell_type": "code",
   "execution_count": 533,
   "metadata": {},
   "outputs": [],
   "source": [
    "write_list_to_file('H:\\\\RV\\\\Work\\\\py\\\\Similarity\\\\ipc_sentences.txt',ipc_sentences)\n",
    "write_list_to_file('H:\\\\RV\\\\Work\\\\py\\\\Similarity\\\\bnss_sentences.txt',bnss_sentences)\n",
    "write_list_to_file('H:\\\\RV\\\\Work\\\\py\\\\Similarity\\\\bpc_sentences.txt',bpc_sentences)"
   ]
  },
  {
   "cell_type": "code",
   "execution_count": 534,
   "metadata": {},
   "outputs": [],
   "source": [
    "def write_text_to_file(filename, string_to_write):\n",
    "    # Open a file in write mode\n",
    "    file = open(filename, \"w\")\n",
    "\n",
    "    file.write(string_to_write)\n",
    "\n",
    "    # Close the file\n",
    "    file.close()"
   ]
  },
  {
   "cell_type": "code",
   "execution_count": 535,
   "metadata": {},
   "outputs": [
    {
     "name": "stdout",
     "output_type": "stream",
     "text": [
      "Cosine Similarity between ipc and bnss: 0.935987644480314\n",
      "Cosine Similarity between ipc and bpc: 0.6981428872604466\n",
      "Cosine Similarity between bnss and bpc: 0.6823067002690311\n"
     ]
    }
   ],
   "source": [
    "from sklearn.feature_extraction.text import CountVectorizer\n",
    "from sklearn.metrics.pairwise import cosine_similarity\n",
    "\n",
    "def compute_cosine_similarity(doc1, doc2):\n",
    "    # Initialize the TF-IDF Vectorizer\n",
    "    vectorizer = CountVectorizer(stop_words=\"english\")\n",
    "    \n",
    "    # Fit and transform the documents into TF-IDF vectors\n",
    "    tfidf_matrix = vectorizer.fit_transform([doc1, doc2])\n",
    "    \n",
    "    # Compute the cosine similarity\n",
    "    similarity_matrix = cosine_similarity(tfidf_matrix[0:1], tfidf_matrix[1:2])\n",
    "    \n",
    "    return similarity_matrix[0][0]\n",
    "\n",
    "    \n",
    "\n",
    "similarity = compute_cosine_similarity(ipc_list_to_string, bnss_list_to_string)\n",
    "print(f\"Cosine Similarity between ipc and bnss: {similarity}\")\n",
    "\n",
    "similarity = compute_cosine_similarity(ipc_list_to_string, bpc_list_to_string)\n",
    "print(f\"Cosine Similarity between ipc and bpc: {similarity}\")\n",
    "\n",
    "similarity = compute_cosine_similarity(bnss_list_to_string, bpc_list_to_string)\n",
    "print(f\"Cosine Similarity between bnss and bpc: {similarity}\")"
   ]
  },
  {
   "cell_type": "code",
   "execution_count": 536,
   "metadata": {},
   "outputs": [
    {
     "name": "stdout",
     "output_type": "stream",
     "text": [
      "Cosine tfidf Similarity between ipc and bnss: 0.9178952361605763\n",
      "Cosine tfidf Similarity between ipc and bpc: 0.6836043617636016\n",
      "Cosine tfidf Similarity between bnss and bpc: 0.6655935703580458\n"
     ]
    }
   ],
   "source": [
    "from sklearn.feature_extraction.text import TfidfVectorizer\n",
    "from sklearn.metrics.pairwise import cosine_similarity\n",
    "\n",
    "def compute_cosine_similarity(doc1, doc2):\n",
    "    # Initialize the TF-IDF Vectorizer\n",
    "    vectorizer = TfidfVectorizer(stop_words=\"english\")\n",
    "    \n",
    "    # Fit and transform the documents into TF-IDF vectors\n",
    "    tfidf_matrix = vectorizer.fit_transform([doc1, doc2])\n",
    "    \n",
    "    # Compute the cosine similarity\n",
    "    similarity_matrix = cosine_similarity(tfidf_matrix[0:1], tfidf_matrix[1:2])\n",
    "\n",
    "    return similarity_matrix[0][0]\n",
    "\n",
    "similarity = compute_cosine_similarity(ipc_list_to_string, bnss_list_to_string)\n",
    "print(f\"Cosine tfidf Similarity between ipc and bnss: {similarity}\")\n",
    "\n",
    "similarity = compute_cosine_similarity(ipc_list_to_string, bpc_list_to_string)\n",
    "print(f\"Cosine tfidf Similarity between ipc and bpc: {similarity}\")\n",
    "\n",
    "similarity = compute_cosine_similarity(bnss_list_to_string, bpc_list_to_string)\n",
    "print(f\"Cosine tfidf Similarity between bnss and bpc: {similarity}\")\n"
   ]
  }
 ],
 "metadata": {
  "kaggle": {
   "accelerator": "none",
   "dataSources": [
    {
     "datasetId": 5421925,
     "sourceId": 9001238,
     "sourceType": "datasetVersion"
    }
   ],
   "dockerImageVersionId": 30746,
   "isGpuEnabled": false,
   "isInternetEnabled": true,
   "language": "python",
   "sourceType": "notebook"
  },
  "kernelspec": {
   "display_name": "Python 3 (ipykernel)",
   "language": "python",
   "name": "python3"
  },
  "language_info": {
   "codemirror_mode": {
    "name": "ipython",
    "version": 3
   },
   "file_extension": ".py",
   "mimetype": "text/x-python",
   "name": "python",
   "nbconvert_exporter": "python",
   "pygments_lexer": "ipython3",
   "version": "3.10.11"
  }
 },
 "nbformat": 4,
 "nbformat_minor": 4
}
