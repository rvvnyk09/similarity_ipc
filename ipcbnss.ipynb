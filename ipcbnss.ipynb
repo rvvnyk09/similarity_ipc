{
 "cells": [
  {
   "cell_type": "code",
   "execution_count": null,
   "metadata": {
    "_cell_guid": "b1076dfc-b9ad-4769-8c92-a6c4dae69d19",
    "_uuid": "8f2839f25d086af736a60e9eeb907d3b93b6e0e5",
    "execution": {
     "iopub.execute_input": "2024-07-21T05:17:48.439042Z",
     "iopub.status.busy": "2024-07-21T05:17:48.438575Z",
     "iopub.status.idle": "2024-07-21T05:18:05.744740Z",
     "shell.execute_reply": "2024-07-21T05:18:05.743204Z",
     "shell.execute_reply.started": "2024-07-21T05:17:48.439004Z"
    }
   },
   "outputs": [],
   "source": []
  },
  {
   "cell_type": "code",
   "execution_count": 281,
   "metadata": {},
   "outputs": [],
   "source": [
    "import fitz  # PyMuPDF\n",
    "\n",
    "\n",
    "\n",
    "def extract_text_from_pdf(pdf_path, start_page):\n",
    "    doc = fitz.open(pdf_path)\n",
    "    text = \"\"\n",
    "    for page_num in range(start_page - 1, len(doc)):  # Adjusting for 0-based index\n",
    "        page = doc.load_page(page_num)\n",
    "        text += page.get_text()\n",
    "    return text\n",
    "\n",
    "\n",
    "\n"
   ]
  },
  {
   "cell_type": "code",
   "execution_count": 282,
   "metadata": {},
   "outputs": [],
   "source": [
    "# Extract text starting from page 14\n",
    "ipc = extract_text_from_pdf(\"H:\\RV\\Work\\py\\Similarity\\IPC.pdf\",14)\n",
    "bnss = extract_text_from_pdf(\"H:\\RV\\Work\\py\\Similarity\\BNSS.pdf\",14)\n",
    "bpc = extract_text_from_pdf(\"H:\\RV\\Work\\py\\Similarity\\BPC.pdf\",15)\n",
    "\n"
   ]
  },
  {
   "cell_type": "code",
   "execution_count": 283,
   "metadata": {},
   "outputs": [
    {
     "data": {
      "text/plain": [
       "' \\n15 \\n \\nREVISED ORDINANCES OF THE BRITISH INDIAN OCEAN \\nTERRITORY \\n \\nTHE PENAL CODE 1981 \\n \\nCHAPTER C.2 \\n \\n \\nAn Ordinance to amend and consolidate the Code of Criminal Law. \\n \\n \\nPART I \\n \\nGENERAL PROVISIONS \\n \\nCHAPTER I \\n \\nPRELIMINARY \\n \\n \\nCitation. \\n \\n1. \\nThis Ordinance may be cited as the Penal Code 1981, ROBIOT c.C.2., \\nand within this Ordinance it is referred to as “this Code”. \\n \\nDeleted on revision. \\n \\n2. \\nDeleted on revision. \\n \\nSaving of certain laws. \\n \\n3. \\nNothing in this Code shall af'"
      ]
     },
     "execution_count": 283,
     "metadata": {},
     "output_type": "execute_result"
    }
   ],
   "source": [
    "bpc[:500]"
   ]
  },
  {
   "cell_type": "code",
   "execution_count": 284,
   "metadata": {
    "execution": {
     "iopub.execute_input": "2024-07-21T07:08:11.147508Z",
     "iopub.status.busy": "2024-07-21T07:08:11.147071Z",
     "iopub.status.idle": "2024-07-21T07:08:11.156762Z",
     "shell.execute_reply": "2024-07-21T07:08:11.155268Z",
     "shell.execute_reply.started": "2024-07-21T07:08:11.147479Z"
    }
   },
   "outputs": [],
   "source": [
    "import re\n",
    "\n",
    "\n",
    "def preprocess_text(text):\n",
    "    \n",
    "  \n",
    "     # Remove unnecessary white spaces\n",
    "    text = re.sub(r'\\s+', ' ', text)\n",
    "    \n",
    "    # Repeal sections marked with \"rep.\" or \"[Repealed.]\"\n",
    "    text = re.sub(r'Section \\d+.*?\\s*rep\\..*?(?=Section|$)', '', text, flags=re.DOTALL)\n",
    "    text = re.sub(r'Section \\d+\\.\\s*\\[Repealed\\.\\].*?(?=Section|$)', '', text, flags=re.DOTALL)\n",
    "    \n",
    "    text = re.sub(r'\\d+\\*', '', text)\n",
    "    \n",
    "    # Remove square brackets but keep the content inside\n",
    "    text = re.sub(r'\\[(.*?)\\]', r'\\1', text)\n",
    "    \n",
    "    \n",
    "    # Replace terms\n",
    "    text = re.sub(r'Code of Criminal Procedure \\(Amendment\\) Act \\(\\d+\\)', '#', text)\n",
    "    text = re.sub(r'Indian Penal Code', '$', text)\n",
    "    \n",
    "     # Replace all numbering\n",
    "    text = re.sub(r'\\(\\w*\\)|\\(\\d+\\w*\\)|\\d+\\w*|\\w\\.', '', text)\n",
    "    text = re.sub(r'-+', '', text)\n",
    "    \n",
    "    return text"
   ]
  },
  {
   "cell_type": "code",
   "execution_count": 285,
   "metadata": {
    "execution": {
     "iopub.execute_input": "2024-07-21T07:36:37.147835Z",
     "iopub.status.busy": "2024-07-21T07:36:37.146494Z",
     "iopub.status.idle": "2024-07-21T07:36:37.157013Z",
     "shell.execute_reply": "2024-07-21T07:36:37.155483Z",
     "shell.execute_reply.started": "2024-07-21T07:36:37.147788Z"
    }
   },
   "outputs": [],
   "source": [
    "def preprocess_text_bnss(text):\n",
    "    \n",
    "  \n",
    "     # Remove unnecessary white spaces\n",
    "    text = re.sub(r'\\s+', ' ', text)\n",
    "    \n",
    "    # Repeal sections marked with \"rep.\" or \"[Repealed.]\"\n",
    "    text = re.sub(r'Section \\d+.*?\\s*rep\\..*?(?=Section|$)', '', text, flags=re.DOTALL)\n",
    "    text = re.sub(r'Section \\d+\\.\\s*\\[Repealed\\.\\].*?(?=Section|$)', '', text, flags=re.DOTALL)\n",
    "\n",
    "    text = re.sub(r'\\d+\\*', '', text)\n",
    "    \n",
    "    text = re.sub(r'\\d+\\.\\s*', '', text)\n",
    "\n",
    "    # Remove the word 'illustration'\n",
    "    text = re.sub(r'\\billustration\\b', '', text, flags=re.IGNORECASE)\n",
    "    \n",
    "    \n",
    "#     # Remove square brackets but keep the content inside\n",
    "#     text = re.sub(r'\\[(.*?)\\]', r'\\1', text)\n",
    "    \n",
    "    \n",
    "    # Replace terms\n",
    "    text = re.sub(r'Bharatiya Nagarik Suraksha Sanhita, 2023', '#', text)\n",
    "    text = re.sub(r' Bharatiya Nyaya Sanhita, 2023', '$', text)\n",
    "    \n",
    "    # Replace all numbering\n",
    "    text = re.sub(r'\\(\\w*\\)|\\(\\d+\\w*\\)|\\d+\\w*|\\w\\.', '', text)\n",
    "    text = re.sub(r'-+', '', text)\n",
    "    \n",
    "    return text\n"
   ]
  },
  {
   "cell_type": "code",
   "execution_count": 286,
   "metadata": {},
   "outputs": [],
   "source": [
    "def preprocess_text_bpc(text):\n",
    "    \n",
    "  \n",
    "     # Remove unnecessary white spaces\n",
    "    text = re.sub(r'\\s+', ' ', text)\n",
    "    \n",
    "    # Repeal sections marked with \"rep.\" or \"[Repealed.]\"\n",
    "    text = re.sub(r'Section \\d+.*?\\s*rep\\..*?(?=Section|$)', '', text, flags=re.DOTALL)\n",
    "    text = re.sub(r'Section \\d+\\.\\s*\\[Repealed\\.\\].*?(?=Section|$)', '', text, flags=re.DOTALL)\n",
    "\n",
    "    text = re.sub(r'\\d+\\*', '', text)\n",
    "    \n",
    "    text = re.sub(r'\\d+\\.\\s*', '', text)\n",
    "\n",
    "    # Remove the word 'illustration'\n",
    "    text = re.sub(r'\\billustration\\b', '', text, flags=re.IGNORECASE)\n",
    "    \n",
    "    \n",
    "#     # Remove square brackets but keep the content inside\n",
    "#     text = re.sub(r'\\[(.*?)\\]', r'\\1', text)\n",
    "    \n",
    "    \n",
    "    # Replace all numbering\n",
    "    text = re.sub(r'\\(\\w*\\)|\\(\\d+\\w*\\)|\\d+\\w*|\\w\\.', '', text)\n",
    "    text = re.sub(r'-+', '', text)\n",
    "    \n",
    "    return text\n"
   ]
  },
  {
   "cell_type": "code",
   "execution_count": 287,
   "metadata": {},
   "outputs": [],
   "source": [
    "def write_text_to_file(filename, string_to_write):\n",
    "    # Open a file in write mode\n",
    "    file = open(filename, \"w\")\n",
    "\n",
    "    file.write(string_to_write)\n",
    "\n",
    "    # Close the file\n",
    "    file.close()"
   ]
  },
  {
   "cell_type": "code",
   "execution_count": 288,
   "metadata": {
    "collapsed": true,
    "execution": {
     "iopub.execute_input": "2024-07-21T06:42:39.142157Z",
     "iopub.status.busy": "2024-07-21T06:42:39.141649Z",
     "iopub.status.idle": "2024-07-21T06:42:39.151096Z",
     "shell.execute_reply": "2024-07-21T06:42:39.149339Z",
     "shell.execute_reply.started": "2024-07-21T06:42:39.142120Z"
    },
    "jupyter": {
     "outputs_hidden": true
    }
   },
   "outputs": [
    {
     "data": {
      "text/plain": [
       "' \\n15 \\n \\nREVISED ORDINANCES OF THE BRITISH INDIAN OCEAN \\nTERRITORY \\n \\nTHE PENAL CODE 1981 \\n \\nCHAPTER C.2 \\n \\n \\nAn Ordinance to amend and consolidate the Code of Criminal Law. \\n \\n \\nPART I \\n \\nGENERAL PROVISIONS \\n \\nCHAPTER I \\n \\nPRELIMINARY \\n \\n \\nCitation. \\n \\n1. \\nThis Ordinance may be cited as the Penal Code 1981, ROBIOT c.C.2., \\nand within this Ordinance it is referred to as “this Code”. \\n \\nDeleted on revision. \\n \\n2. \\nDeleted on revision. \\n \\nSaving of certain laws. \\n \\n3. \\nNothing in this Code shall affect – \\n \\n(a) subject to section 326 of this Code, the liability, trial or \\npunishment of a person for an offence against the English \\ncommon law or against any law in force in the Territory other \\nthan this Code;  \\n \\n(b) the liability of a person to be tried or punished for an offence \\nunder the provisions of any law in force in the Territory relating \\nto the jurisdiction of the courts of the Territory in respect of acts \\ndone beyond the ordinary jurisdiction of such courts;  \\n \\n(c) the power of any court to punish a person for contempt of such \\nCourt;  \\n \\n(d) the liability or trial of a person, or the punishment of a person \\nunder any sentence passed or to be passed, in respect of any act \\ndone or commenced before the commencement of this Code;  \\n \\n16 \\n \\n \\n(e) any power of Her Majesty, or of the Commissioner as the \\nrepresentative of Her Majesty, to grant any pardon or to remit or \\ncommute in whole or in part or to respite the execution of any \\nsentence passed or to be passed; or \\n \\n(f) any of the statutes, Ordinances, regulations or articles for the \\ntime being in force for the government of Her Majesty’s military \\nor naval or air forces: \\n \\nProvided that if a person does an act which is punishable under this Code \\nand is also punishable under another Ordinance or statute of any of the \\nkinds mentioned in this section, he shall not, subject to section 21, be \\npunished for that act both under that Ordinance or statute and also under \\nthis Code. \\n \\n \\nCHAPTER II \\n \\nINTERPRETATION \\n \\n \\nGeneral rule of construction of Code. \\n \\n4. \\nThis Code shall be interpreted in accordance with the principles of legal \\ninterpretation obtaining in England, and expressions used in it shall be presumed, \\nso far as is consistent with their context, and except as may be otherwise \\nexpressly provided, to be used with the meaning attaching to them in English \\ncriminal law and shall be construed in accordance therewith. \\n \\nDefinitions. \\n \\n5. \\n(1) In this Code, unless the context otherwise requires – \\n \\ncourt means a court of competent jurisdiction; \\ndangerous harm means harm endangering life; \\nexplosive or explosive substance means any article manufactured for the \\npurpose of producing a practical effect by explosion, or intended by the person \\nhaving it with him or handling it for that purpose; \\n \\ngain and loss are to be construed as extending only to gain or loss in money or \\nother property, but as extending to any such gain or loss whether temporary or \\npermanent; and – \\n \\n(a) gain includes a gain by keeping what one has, as well as a \\ngain by getting what one has not; and \\n \\n(b) loss includes a loss by not getting what one might get, as well \\nas a loss by parting with what one has; \\n \\n17 \\n \\n \\ngoods, except in so far as the context otherwise requires, includes money and \\nevery other description of property except land, and includes things severed from \\nthe land by stealing; \\n \\ngrievous harm means any harm which amounts to a maim or dangerous harm, \\nor seriously or permanently injures health or which is likely so to injure health, \\nor which extends to permanent disfigurement or to any permanent or serious \\ninjury to any external or internal organ, membrane or sense; \\n \\nharm means any bodily hurt, disease or disorder whether permanent or \\ntemporary; \\n \\nJudicial Officer means a Judge, a Magistrate or the Registrar of the Supreme \\nCourt; \\n \\njudicial proceeding includes any proceeding had or taken in or before any court, \\ntribunal, commission of inquiry or person, in which evidence may be taken on \\noath; \\n \\nknowingly used in connection with any term denoting uttering or using, implies \\nknowledge of the character of the thing uttered or used; \\n \\nmaim means the destruction or permanent disabling of any external or internal \\norgan, membrane or sense; \\n \\nmoney includes bank notes, bank drafts, cheques and any other orders, warrants \\nor requests for the payment of money; \\n \\noath includes affirmation or declaration; \\n \\noffence is an act, attempt or omission punishable by law; \\n \\nOrdinance includes any orders or rules or regulations made under the authority \\nof any Ordinance; \\n \\nPolice Officer means a person so appointed by the Commissioner under the \\nCourts Ordinance 1983; \\n \\nperson and owner and other like terms, when used with reference to property \\nincludes corporations of all kinds and any other association of persons capable \\nof owning property, and also when so used includes Her Majesty; \\n \\nperson employed in the public service means any person holding any of the \\nfollowing offices or performing the duty thereof whether as a deputy or \\notherwise, namely – \\n \\n(a) any civil office including the office of Commissioner, the \\npower of appointing a person to which or of removing from \\n \\n18 \\n \\nwhich is vested in Her Majesty or in the Commissioner or in any \\npublic Commission or Board;  \\n \\n(b) any office to which a person is appointed or nominated by \\nOrdinance or statute or by election;  \\n \\n(c) any civil office, the power of appointing to which or removing \\nfrom which is vested in any person or persons holding an office \\nof any kind included in either of the two last preceding \\nparagraphs of this section; or \\n \\n(d) any office of arbitrator or umpire in any proceeding or matter \\nsubmitted to arbitration by order or with the sanction of any court, \\nor in pursuance of any Ordinance; \\n \\n \\n \\nand the said term further includes – \\n \\n \\n \\n \\n(i) a Police Officer; \\n \\n(ii) a member of a commission of inquiry appointed under \\nor in pursuance of any Ordinance; \\n \\n(iii) any person employed to execute any process of a \\ncourt; \\n \\n(iv) all persons belonging to Her Majesty’s naval or \\nmilitary or air forces; \\n \\n(v) all persons in the employment of any government \\ndepartment; \\n \\n \\n \\n \\n \\n(vi) a person acting as a minister of religion of whatsoever \\ndenomination in so far as he performs function in respect \\nof the notification of intending marriage or in respect of \\nthe solemnisation of marriage, or in respect of the making \\nor keeping of any register or certificate of marriage, birth, \\nbaptism, death or burial, but not in any other respect; \\n \\n \\n \\n \\npossession means “be in possession of” or “have in possession” and includes not \\nonly having in one’s own personal possession, but also knowingly having \\nanything in the actual possession or custody of any other person, or, having \\nanything in any place (whether belonging to, or occupied by oneself or not) for \\nthe use or benefit of oneself or of any other person.  If there are two or more \\npersons and any one or more of them with the knowledge and consent of the rest \\nhas or have anything in his or their custody or possession, it shall be deemed and \\ntaken to be in the custody or possession of each and all of them; \\n \\nPrincipal Legal Adviser means the person so appointed by the Commissioner, \\nand includes – \\n \\n \\n19 \\n \\n(a) any person appointed by the Commissioner to perform all or any of \\nthe functions of the Principal Legal Adviser during any period when the \\noffice of Principal Legal Adviser is vacant or the holder thereof is for \\nany reason unable to perform his functions; \\n \\n(b) any person in the Territory, in respect of a particular function of the \\nPrincipal Legal Adviser which the Principal Legal Adviser has \\nauthorised him to perform; \\n \\nproperty includes money and all other property, real or personal, including \\nthings in action and other intangible property; \\n \\npublic refers not only to all persons within the Territory, but also to the person \\ninhabiting or using any particular place, or any number of such persons, and also \\nto such indeterminate persons as may happen to be affected by the conduct in \\nrespect to which such expression is used; \\n \\npublic way includes any highway, market place, square, street, bridge or other \\nway which is lawfully used by the public; \\n \\npublic place or public premises includes any public way and any building, \\nplace or conveyance to which, for the time being, the public are entitled or \\npermitted to have access either without any condition or upon condition of \\nmaking any payment, and any building or place which is for the time being used \\nfor any public or religious meeting or assembly or as an open court; \\n \\npublicly when applied to acts done means either – \\n \\n(a) that they are so done in any public place as to be seen by any \\nperson whether such person be or be not in a public place; or  \\n \\n(b) that they are so done in any place not being a public place as \\nto be likely to be seen by any person in a public place; \\n \\nstatute means an Act of Parliament of the United Kingdom and includes any \\norders, rules, regulations, bye-laws or other subsidiary legislation made or \\npassed under the authority of any statute; \\n \\nTerritory means the British Indian Ocean Territory;  \\n \\nutter means and includes using or dealing with and attempting to use or deal \\nwith and attempting to induce any person to use, deal with or act upon the thing \\nin question; \\n \\nvaluable security means any document creating, transferring, surrendering or \\nreleasing any right to, in or over property, or authorising the payment of money \\nor delivery of any property, or evidencing the creation, transfer, surrender or \\nrelease of any such right, or the payment of money or delivery of any property, \\nor the satisfaction of any obligation; \\n \\n \\n20 \\n \\nvessel includes a ship, a boat and every other kind of vessel used in navigation \\non the sea and includes hovercraft; \\n \\nwound means any incision or puncture which divides or pierces '"
      ]
     },
     "execution_count": 288,
     "metadata": {},
     "output_type": "execute_result"
    }
   ],
   "source": [
    "bpc[:10000]"
   ]
  },
  {
   "cell_type": "code",
   "execution_count": 289,
   "metadata": {
    "execution": {
     "iopub.execute_input": "2024-07-21T07:23:37.066329Z",
     "iopub.status.busy": "2024-07-21T07:23:37.065910Z",
     "iopub.status.idle": "2024-07-21T07:23:37.144774Z",
     "shell.execute_reply": "2024-07-21T07:23:37.143353Z",
     "shell.execute_reply.started": "2024-07-21T07:23:37.066297Z"
    }
   },
   "outputs": [],
   "source": [
    "ipc_preprocess = preprocess_text(ipc)"
   ]
  },
  {
   "cell_type": "code",
   "execution_count": 290,
   "metadata": {
    "execution": {
     "iopub.execute_input": "2024-07-21T07:36:40.778066Z",
     "iopub.status.busy": "2024-07-21T07:36:40.777590Z",
     "iopub.status.idle": "2024-07-21T07:36:40.888616Z",
     "shell.execute_reply": "2024-07-21T07:36:40.887252Z",
     "shell.execute_reply.started": "2024-07-21T07:36:40.778035Z"
    }
   },
   "outputs": [],
   "source": [
    "bnss_preprocess = preprocess_text_bnss(bnss)"
   ]
  },
  {
   "cell_type": "code",
   "execution_count": 291,
   "metadata": {},
   "outputs": [],
   "source": [
    "bpc_preprocess = preprocess_text_bpc(bpc)"
   ]
  },
  {
   "cell_type": "code",
   "execution_count": 292,
   "metadata": {},
   "outputs": [],
   "source": [
    "write_text_to_file('H:\\\\RV\\\\Work\\\\py\\\\Similarity\\\\ipc.txt',ipc)\n",
    "write_text_to_file('H:\\\\RV\\\\Work\\\\py\\\\Similarity\\\\bnss.txt',bnss)\n",
    "write_text_to_file('H:\\\\RV\\\\Work\\\\py\\\\Similarity\\\\bpc.txt',bpc)\n",
    "\n",
    "write_text_to_file('H:\\\\RV\\\\Work\\\\py\\\\Similarity\\\\ipc_preprocess.txt',ipc_preprocess)\n",
    "write_text_to_file('H:\\\\RV\\\\Work\\\\py\\\\Similarity\\\\bnss_preprocess.txt',bnss_preprocess)\n",
    "write_text_to_file('H:\\\\RV\\\\Work\\\\py\\\\Similarity\\\\bpc_preprocess.txt',bpc_preprocess)"
   ]
  },
  {
   "cell_type": "code",
   "execution_count": 293,
   "metadata": {
    "execution": {
     "iopub.execute_input": "2024-07-21T07:36:44.069971Z",
     "iopub.status.busy": "2024-07-21T07:36:44.069473Z",
     "iopub.status.idle": "2024-07-21T07:36:44.078764Z",
     "shell.execute_reply": "2024-07-21T07:36:44.077377Z",
     "shell.execute_reply.started": "2024-07-21T07:36:44.069934Z"
    }
   },
   "outputs": [
    {
     "data": {
      "text/plain": [
       "'  REVISED ORDINANCES OF THE BRITISH INDIAN OCEAN TERRITORY THE PENAL CODE  CHAPTER  An Ordinance to amend and consolidate the Code of Criminal La PART I GENERAL PROVISIONS CHAPTER I PRELIMINARY Citatio This Ordinance may be cited as the Penal Code , ROBIOT , and within this Ordinance it is referred to as “this Code”. Deleted on revisio Deleted on revisio Saving of certain law Nothing in this Code shall affect –  subject to section  of this Code, the liability, trial or punishment of a person for an offence against the English common law or against any law in force in the Territory other than this Code;  the liability of a person to be tried or punished for an offence under the provisions of any law in force in the Territory relating to the jurisdiction of the courts of the Territory in respect of acts done beyond the ordinary jurisdiction of such courts;  the power of any court to punish a person for contempt of such Court;  the liability or trial of a person, or the punishment of a person under any sentence passed or to be passed, in respect of any act done or commenced before the commencement of this Code;   any power of Her Majesty, or of the Commissioner as the representative of Her Majesty, to grant any pardon or to remit or commute in whole or in part or to respite the execution of any sentence passed or to be passed; or  any of the statutes, Ordinances, regulations or articles for the time being in force for the government of Her Majesty’s military or naval or air forces: Provided that if a person does an act which is punishable under this Code and is also punishable under another Ordinance or statute of any of the kinds mentioned in this section, he shall not, subject to section , be punished for that act both under that Ordinance or statute and also under this Cod CHAPTER II INTERPRETATION General rule of construction of Cod This Code shall be interpreted in accordance with the principles of legal interpretation obtaining in England, and expressions used in it shall be presumed, so far as is consistent with their context, and except as may be otherwise expressly provided, to be used with the meaning attaching to them in English criminal law and shall be construed in accordance therewit Definition  In this Code, unless the context otherwise requires – court means a court of competent jurisdiction; dangerous harm means harm endangering life; explosive or explosive substance means any article manufactured for the purpose of producing a practical effect by explosion, or intended by the person having it with him or handling it for that purpose; gain and loss are to be construed as extending only to gain or loss in money or other property, but as extending to any such gain or loss whether temporary or permanent; and –  gain includes a gain by keeping what one has, as well as a gain by getting what one has not; and  loss includes a loss by not getting what one might get, as well as a loss by parting with what one has;  goods, except in so far as the context otherwise requires, includes money and every other description of property except land, and includes things severed from the land by stealing; grievous harm means any harm which amounts to a maim or dangerous harm, or seriously or permanently injures health or which is likely so to injure health, or which extends to permanent disfigurement or to any permanent or serious injury to any external or internal organ, membrane or sense; harm means any bodily hurt, disease or disorder whether permanent or temporary; Judicial Officer means a Judge, a Magistrate or the Registrar of the Supreme Court; judicial proceeding includes any proceeding had or taken in or before any court, tribunal, commission of inquiry or person, in which evidence may be taken on oath; knowingly used in connection with any term denoting uttering or using, implies knowledge of the character of the thing uttered or used; maim means the destruction or permanent disabling of any external or internal organ, membrane or sense; money includes bank notes, bank drafts, cheques and any other orders, warrants or requests for the payment of money; oath includes affirmation or declaration; offence is an act, attempt or omission punishable by law; Ordinance includes any orders or rules or regulations made under the authority of any Ordinance; Police Officer means a person so appointed by the Commissioner under the Courts Ordinance ; person and owner and other like terms, when used with reference to property includes corporations of all kinds and any other association of persons capable of owning property, and also when so used includes Her Majesty; person employed in the public service means any person holding any of the following offices or performing the duty thereof whether as a deputy or otherwise, namely –  any civil office including the office of Commissioner, the power of appointing a person to which or of removing from  which is vested in Her Majesty or in the Commissioner or in any public Commission or Board;  any office to which a person is appointed or nominated by Ordinance or statute or by election;  any civil office, the power of appointing to which or removing from which is vested in any person or persons holding an office of any kind included in either of the two last preceding paragraphs of this section; or  any office of arbitrator or umpire in any proceeding or matter submitted to arbitration by order or with the sanction of any court, or in pursuance of any Ordinance; and the said term further includes –  a Police Officer;  a member of a commission of inquiry appointed under or in pursuance of any Ordinance;  any person employed to execute any process of a court;  all persons belonging to Her Majesty’s naval or military or air forces;  all persons in the employment of any government department;  a person acting as a minister of religion of whatsoever denomination in so far as he performs function in respect of the notification of intending marriage or in respec'"
      ]
     },
     "execution_count": 293,
     "metadata": {},
     "output_type": "execute_result"
    }
   ],
   "source": [
    "bpc_preprocess[:6000]"
   ]
  },
  {
   "cell_type": "code",
   "execution_count": 294,
   "metadata": {
    "execution": {
     "iopub.execute_input": "2024-07-21T07:38:46.615843Z",
     "iopub.status.busy": "2024-07-21T07:38:46.615358Z",
     "iopub.status.idle": "2024-07-21T07:38:46.626002Z",
     "shell.execute_reply": "2024-07-21T07:38:46.624451Z",
     "shell.execute_reply.started": "2024-07-21T07:38:46.615810Z"
    }
   },
   "outputs": [],
   "source": [
    "def tokenize_sentences(text):\n",
    "    # Split text into sentences using regular expressions\n",
    "    sentences = re.split(r'(?<!\\w\\.\\w.)(?<![A-Z][a-z]\\.)(?<=\\.|\\?)\\s', text)\n",
    "    return [sentence.strip() for sentence in sentences if sentence.strip()]\n",
    "\n",
    "def find_matching_sentences(sentences1, sentences2):\n",
    "    # Convert second list of sentences to a set for faster lookup\n",
    "    sentences2_set = set(sentences2)\n",
    "    \n",
    "    # Find matches and unmatched sentences\n",
    "    matches = []\n",
    "    unmatched = []\n",
    "    for sentence in sentences1:\n",
    "        if sentence in sentences2_set:\n",
    "            matches.append(sentence)\n",
    "        else:\n",
    "            unmatched.append(sentence)\n",
    "    \n",
    "    return matches, unmatched\n",
    "\n",
    "def calculate_match_percentage(total_sentences, matched_sentences):\n",
    "    if total_sentences == 0:\n",
    "        return 0.0\n",
    "    return (len(matched_sentences) / total_sentences) * 100"
   ]
  },
  {
   "cell_type": "code",
   "execution_count": 304,
   "metadata": {
    "execution": {
     "iopub.execute_input": "2024-07-21T07:45:31.060147Z",
     "iopub.status.busy": "2024-07-21T07:45:31.059579Z",
     "iopub.status.idle": "2024-07-21T07:45:31.276252Z",
     "shell.execute_reply": "2024-07-21T07:45:31.273564Z",
     "shell.execute_reply.started": "2024-07-21T07:45:31.060107Z"
    }
   },
   "outputs": [],
   "source": [
    "\n",
    "bnss_sentences = tokenize_sentences(bnss_preprocess)\n",
    "ipc_sentences = tokenize_sentences(ipc_preprocess)\n",
    "\n"
   ]
  },
  {
   "cell_type": "code",
   "execution_count": 306,
   "metadata": {
    "execution": {
     "iopub.execute_input": "2024-07-21T07:45:32.352746Z",
     "iopub.status.busy": "2024-07-21T07:45:32.352317Z",
     "iopub.status.idle": "2024-07-21T07:45:32.363907Z",
     "shell.execute_reply": "2024-07-21T07:45:32.362371Z",
     "shell.execute_reply.started": "2024-07-21T07:45:32.352714Z"
    }
   },
   "outputs": [
    {
     "name": "stdout",
     "output_type": "stream",
     "text": [
      "Total sentences in BNSS: 77\n",
      "Matching sentences: 0\n",
      "Match percentage: 0.00%\n"
     ]
    }
   ],
   "source": [
    "# Find matching sentences\n",
    "matching_sentences, unmatched_sentences = find_matching_sentences(bnss_sentences, ipc_sentences)\n",
    "\n",
    "\n",
    "# Calculate match percentage\n",
    "match_percentage = calculate_match_percentage(len(bnss_sentences), matching_sentences)\n",
    "\n",
    "print(f\"Total sentences in BNSS: {len(bnss_sentences)}\")\n",
    "print(f\"Matching sentences: {len(matching_sentences)}\")\n",
    "print(f\"Match percentage: {match_percentage:.2f}%\")"
   ]
  },
  {
   "cell_type": "code",
   "execution_count": 297,
   "metadata": {
    "execution": {
     "iopub.execute_input": "2024-07-21T07:45:35.096617Z",
     "iopub.status.busy": "2024-07-21T07:45:35.096198Z",
     "iopub.status.idle": "2024-07-21T07:45:35.104317Z",
     "shell.execute_reply": "2024-07-21T07:45:35.102675Z",
     "shell.execute_reply.started": "2024-07-21T07:45:35.096586Z"
    }
   },
   "outputs": [],
   "source": [
    "matching_sentences = find_matching_sentences(bnss_sentences, ipc_sentences)\n"
   ]
  },
  {
   "cell_type": "code",
   "execution_count": 298,
   "metadata": {
    "collapsed": true,
    "execution": {
     "iopub.execute_input": "2024-07-21T07:39:32.829685Z",
     "iopub.status.busy": "2024-07-21T07:39:32.829246Z",
     "iopub.status.idle": "2024-07-21T07:39:32.852707Z",
     "shell.execute_reply": "2024-07-21T07:39:32.850986Z",
     "shell.execute_reply.started": "2024-07-21T07:39:32.829654Z"
    },
    "jupyter": {
     "outputs_hidden": true
    }
   },
   "outputs": [
    {
     "name": "stdout",
     "output_type": "stream",
     "text": [
      "\n",
      "Unmatched Sentences:\n"
     ]
    }
   ],
   "source": [
    "print(\"\\nUnmatched Sentences:\")\n",
    "for sentence in unmatched_sentences:\n",
    "#    print(f\"- {sentence}\")\n",
    "    continue"
   ]
  },
  {
   "cell_type": "code",
   "execution_count": 299,
   "metadata": {
    "collapsed": true,
    "execution": {
     "iopub.execute_input": "2024-07-21T07:36:58.950980Z",
     "iopub.status.busy": "2024-07-21T07:36:58.950450Z",
     "iopub.status.idle": "2024-07-21T07:36:58.962093Z",
     "shell.execute_reply": "2024-07-21T07:36:58.960605Z",
     "shell.execute_reply.started": "2024-07-21T07:36:58.950944Z"
    },
    "jupyter": {
     "outputs_hidden": true
    }
   },
   "outputs": [],
   "source": [
    "for sentence in matching_sentences:\n",
    "#    print(f\"- {sentence}\")\n",
    "    continue"
   ]
  },
  {
   "cell_type": "code",
   "execution_count": 303,
   "metadata": {},
   "outputs": [
    {
     "name": "stdout",
     "output_type": "stream",
     "text": [
      "Cosine Similarity between ipc and bnss: 0.9362999309766589\n",
      "Cosine Similarity between ipc and bpc: 0.6831075012241392\n",
      "Cosine Similarity between bnss and bpc: 0.6647842693681364\n"
     ]
    }
   ],
   "source": [
    "from sklearn.feature_extraction.text import CountVectorizer\n",
    "from sklearn.metrics.pairwise import cosine_similarity\n",
    "\n",
    "def compute_cosine_similarity(doc1, doc2):\n",
    "    # Initialize the TF-IDF Vectorizer\n",
    "    vectorizer = CountVectorizer(stop_words=\"english\")\n",
    "    \n",
    "    # Fit and transform the documents into TF-IDF vectors\n",
    "    tfidf_matrix = vectorizer.fit_transform([doc1, doc2])\n",
    "    \n",
    "    # Compute the cosine similarity\n",
    "    similarity_matrix = cosine_similarity(tfidf_matrix[0:1], tfidf_matrix[1:2])\n",
    "    \n",
    "    return similarity_matrix[0][0]\n",
    "\n",
    "    \n",
    "\n",
    "similarity = compute_cosine_similarity(ipc_preprocess, bnss_preprocess)\n",
    "print(f\"Cosine Similarity between ipc and bnss: {similarity}\")\n",
    "\n",
    "similarity = compute_cosine_similarity(ipc_preprocess, bpc_preprocess)\n",
    "print(f\"Cosine Similarity between ipc and bpc: {similarity}\")\n",
    "\n",
    "similarity = compute_cosine_similarity(bnss_preprocess, bpc_preprocess)\n",
    "print(f\"Cosine Similarity between bnss and bpc: {similarity}\")"
   ]
  },
  {
   "cell_type": "code",
   "execution_count": 301,
   "metadata": {},
   "outputs": [
    {
     "name": "stdout",
     "output_type": "stream",
     "text": [
      "Cosine tfidf Similarity between ipc and bnss: 0.9221233253341317\n",
      "Cosine tfidf Similarity between ipc and bpc: 0.6718575891025383\n",
      "Cosine tfidf Similarity between bnss and bpc: 0.6482083092861881\n"
     ]
    }
   ],
   "source": [
    "from sklearn.feature_extraction.text import TfidfVectorizer\n",
    "from sklearn.metrics.pairwise import cosine_similarity\n",
    "\n",
    "def compute_cosine_similarity(doc1, doc2):\n",
    "    # Initialize the TF-IDF Vectorizer\n",
    "    vectorizer = TfidfVectorizer(stop_words=\"english\")\n",
    "    \n",
    "    # Fit and transform the documents into TF-IDF vectors\n",
    "    tfidf_matrix = vectorizer.fit_transform([doc1, doc2])\n",
    "    \n",
    "    # Compute the cosine similarity\n",
    "    similarity_matrix = cosine_similarity(tfidf_matrix[0:1], tfidf_matrix[1:2])\n",
    "\n",
    "    return similarity_matrix[0][0]\n",
    "\n",
    "similarity = compute_cosine_similarity(ipc_preprocess, bnss_preprocess)\n",
    "print(f\"Cosine tfidf Similarity between ipc and bnss: {similarity}\")\n",
    "\n",
    "similarity = compute_cosine_similarity(ipc_preprocess, bpc_preprocess)\n",
    "print(f\"Cosine tfidf Similarity between ipc and bpc: {similarity}\")\n",
    "\n",
    "similarity = compute_cosine_similarity(bnss_preprocess, bpc_preprocess)\n",
    "print(f\"Cosine tfidf Similarity between bnss and bpc: {similarity}\")\n"
   ]
  },
  {
   "cell_type": "code",
   "execution_count": null,
   "metadata": {},
   "outputs": [],
   "source": []
  }
 ],
 "metadata": {
  "kaggle": {
   "accelerator": "none",
   "dataSources": [
    {
     "datasetId": 5421925,
     "sourceId": 9001238,
     "sourceType": "datasetVersion"
    }
   ],
   "dockerImageVersionId": 30746,
   "isGpuEnabled": false,
   "isInternetEnabled": true,
   "language": "python",
   "sourceType": "notebook"
  },
  "kernelspec": {
   "display_name": "Python 3 (ipykernel)",
   "language": "python",
   "name": "python3"
  },
  "language_info": {
   "codemirror_mode": {
    "name": "ipython",
    "version": 3
   },
   "file_extension": ".py",
   "mimetype": "text/x-python",
   "name": "python",
   "nbconvert_exporter": "python",
   "pygments_lexer": "ipython3",
   "version": "3.10.11"
  }
 },
 "nbformat": 4,
 "nbformat_minor": 4
}
